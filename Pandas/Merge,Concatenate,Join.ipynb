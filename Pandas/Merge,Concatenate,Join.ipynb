{
 "cells": [
  {
   "cell_type": "code",
   "execution_count": 4,
   "id": "d21b9667-2527-43e9-9819-2d7ddf4238c0",
   "metadata": {},
   "outputs": [
    {
     "name": "stdout",
     "output_type": "stream",
     "text": [
      "  E ID       Name  Age\n",
      "0  I01    Shubham   22\n",
      "1  I02     Sachin   22\n",
      "2  I03     Satyam   25\n",
      "3  I04       Sonu   23\n",
      "4  I05  Satyendra   54\n",
      "5  I06     Saloni   21\n",
      "\n",
      "  E ID  Salary\n",
      "0  I01   90999\n",
      "1  I07   89888\n",
      "2  I03   89000\n",
      "3  I04   89000\n",
      "4  I08  770000\n",
      "5  I06   12000\n",
      "\n",
      "  E ID     Name  Age  Salary\n",
      "0  I01  Shubham   22   90999\n",
      "1  I03   Satyam   25   89000\n",
      "2  I04     Sonu   23   89000\n",
      "3  I06   Saloni   21   12000\n"
     ]
    }
   ],
   "source": [
    "import pandas as pd\n",
    "import numpy as np\n",
    "df1={\"E ID\":[\"I01\",\"I02\",\"I03\",\"I04\",\"I05\",\"I06\"],\n",
    "      \"Name\":[\"Shubham\",\"Sachin\",\"Satyam\",\"Sonu\",\"Satyendra\",\"Saloni\"],\n",
    "      \"Age\":[22,22,25,23,54,21]\n",
    "     }\n",
    "df2={\"E ID\":[\"I01\",\"I07\",\"I03\",\"I04\",\"I08\",\"I06\"],\n",
    "     \"Salary\":[90999,89888,89000,89000,770000,12000]\n",
    "    }\n",
    "data1=pd.DataFrame(df1)\n",
    "data2=pd.DataFrame(df2)\n",
    "print(data1)\n",
    "print()\n",
    "print(data2)\n",
    "print()\n",
    "print(pd.merge(left=data1,right=data2,on=\"E ID\"))\n"
   ]
  },
  {
   "cell_type": "code",
   "execution_count": 5,
   "id": "904f766b-5bd3-492b-8818-591f096e0237",
   "metadata": {},
   "outputs": [
    {
     "name": "stdout",
     "output_type": "stream",
     "text": [
      "  E ID       Name  Age   Salary\n",
      "0  I01    Shubham   22  90999.0\n",
      "1  I02     Sachin   22      NaN\n",
      "2  I03     Satyam   25  89000.0\n",
      "3  I04       Sonu   23  89000.0\n",
      "4  I05  Satyendra   54      NaN\n",
      "5  I06     Saloni   21  12000.0\n"
     ]
    }
   ],
   "source": [
    "print(pd.merge(left=data1,right=data2,on=\"E ID\",how=\"left\"))"
   ]
  },
  {
   "cell_type": "code",
   "execution_count": 6,
   "id": "db3b24cf-a4e0-4600-a86c-5846804a8ea3",
   "metadata": {},
   "outputs": [
    {
     "name": "stdout",
     "output_type": "stream",
     "text": [
      "  E ID     Name   Age  Salary\n",
      "0  I01  Shubham  22.0   90999\n",
      "1  I07      NaN   NaN   89888\n",
      "2  I03   Satyam  25.0   89000\n",
      "3  I04     Sonu  23.0   89000\n",
      "4  I08      NaN   NaN  770000\n",
      "5  I06   Saloni  21.0   12000\n"
     ]
    }
   ],
   "source": [
    "print(pd.merge(left=data1,right=data2,on=\"E ID\",how=\"right\"))"
   ]
  },
  {
   "cell_type": "code",
   "execution_count": 7,
   "id": "bc6d1ebb-91ca-4d09-bd4f-7477950cad7a",
   "metadata": {},
   "outputs": [
    {
     "name": "stdout",
     "output_type": "stream",
     "text": [
      "  E ID       Name   Age    Salary\n",
      "0  I01    Shubham  22.0       NaN\n",
      "1  I02     Sachin  22.0       NaN\n",
      "2  I03     Satyam  25.0       NaN\n",
      "3  I04       Sonu  23.0       NaN\n",
      "4  I05  Satyendra  54.0       NaN\n",
      "5  I06     Saloni  21.0       NaN\n",
      "0  I01        NaN   NaN   90999.0\n",
      "1  I07        NaN   NaN   89888.0\n",
      "2  I03        NaN   NaN   89000.0\n",
      "3  I04        NaN   NaN   89000.0\n",
      "4  I08        NaN   NaN  770000.0\n",
      "5  I06        NaN   NaN   12000.0\n"
     ]
    }
   ],
   "source": [
    "print(pd.concat([data1,data2]))"
   ]
  },
  {
   "cell_type": "code",
   "execution_count": 21,
   "id": "2724f604-717e-45a1-9be6-b788cfdf8f94",
   "metadata": {},
   "outputs": [
    {
     "name": "stdout",
     "output_type": "stream",
     "text": [
      "   Fruits  Price  Quantity\n",
      "0   apple    100       100\n",
      "1   mango    150       110\n",
      "2  banana     50        30\n",
      "3   guava     40        45\n",
      "\n",
      "   Fruits  Price  Quantity\n",
      "0   apple    125        80\n",
      "1   mango    133        60\n",
      "2  banana     50        30\n",
      "3   guava    400       100\n",
      "\n",
      "\n",
      "\n",
      "   Price        Quantity       \n",
      "    self  other     self  other\n",
      "0  100.0  125.0    100.0   80.0\n",
      "1  150.0  133.0    110.0   60.0\n",
      "3   40.0  400.0     45.0  100.0\n"
     ]
    }
   ],
   "source": [
    "import pandas as pd\n",
    "import numpy as np\n",
    "\n",
    "data={\"Fruits\":[\"apple\",\"mango\",\"banana\",\"guava\"],\n",
    "      \"Price\":[100,150,50,40],\n",
    "      \"Quantity\":[100,110,30,45]\n",
    "     }\n",
    "df1=pd.DataFrame(data)\n",
    "print(df1)\n",
    "df2=df1.copy()\n",
    "df2.loc[0,\"Price\"]=125\n",
    "df2.loc[1,\"Price\"]=133\n",
    "df2.loc[3,\"Price\"]=400\n",
    "df2.loc[0,\"Quantity\"]=80\n",
    "df2.loc[1,\"Quantity\"]=60\n",
    "df2.loc[3,\"Quantity\"]=100\n",
    "print()\n",
    "print(df2)\n",
    "print()\n",
    "print()\n",
    "print()\n",
    "print(df1.compare(df2,keep_shape=False))\n"
   ]
  },
  {
   "cell_type": "code",
   "execution_count": 16,
   "id": "8a438aab-b45f-4564-bfc9-0de680367767",
   "metadata": {},
   "outputs": [
    {
     "name": "stdout",
     "output_type": "stream",
     "text": [
      "         Price  Quantity\n",
      "0 self   100.0     100.0\n",
      "  other  125.0      80.0\n",
      "1 self   150.0     110.0\n",
      "  other  133.0      60.0\n",
      "3 self    40.0      45.0\n",
      "  other  400.0     100.0\n"
     ]
    }
   ],
   "source": []
  },
  {
   "cell_type": "code",
   "execution_count": null,
   "id": "045980e2-345d-4071-918e-c70bbca90b47",
   "metadata": {},
   "outputs": [],
   "source": []
  }
 ],
 "metadata": {
  "kernelspec": {
   "display_name": "Python 3 (ipykernel)",
   "language": "python",
   "name": "python3"
  },
  "language_info": {
   "codemirror_mode": {
    "name": "ipython",
    "version": 3
   },
   "file_extension": ".py",
   "mimetype": "text/x-python",
   "name": "python",
   "nbconvert_exporter": "python",
   "pygments_lexer": "ipython3",
   "version": "3.12.5"
  }
 },
 "nbformat": 4,
 "nbformat_minor": 5
}
