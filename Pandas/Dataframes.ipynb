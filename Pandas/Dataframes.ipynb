{
 "cells": [
  {
   "cell_type": "code",
   "execution_count": 3,
   "id": "dc800f5b-9c75-45e4-9174-98b421eb92ac",
   "metadata": {},
   "outputs": [
    {
     "name": "stdout",
     "output_type": "stream",
     "text": [
      "     SL.NO.  COLLEGE ID  COURSE STREAM TCS - DT/CT REFERENCE NUMBER  \\\n",
      "0         1  2110902041  B.TECH     IT                DT20245696416   \n",
      "1         2  2110902148  B.TECH     IT                DT20245718444   \n",
      "2         3  2110902057  B.TECH     IT                CT20244429167   \n",
      "3         4  2110902141  B.TECH     IT                DT20245713894   \n",
      "4         5  2110902147  B.TECH     IT                DT20245716922   \n",
      "..      ...         ...     ...    ...                          ...   \n",
      "166     169  2110902187  B.TECH     IT                DT20234687021   \n",
      "167     170  2110902204  B.TECH     IT                DT20245718476   \n",
      "168     171  2110902199  B.TECH     IT                CT20244429207   \n",
      "169     172  2110902175  B.TECH     IT                DT20245748819   \n",
      "170     173  2110902096  B.TECH     IT                DT20245717572   \n",
      "\n",
      "      FIRST NAME MIDDLE NAME(WHEREVER APPLICABLE) LAST NAME  GENDER  \\\n",
      "0        AAKASH                               NaN     SHAW     Male   \n",
      "1    Abdussalam                               NaN    Ghous     Male   \n",
      "2          ABHIK                              NaN  MAJUMDAR    Male   \n",
      "3       ABHISHEK                              NaN    MAHATA    Male   \n",
      "4           Abir                              NaN       Roy    Male   \n",
      "..           ...                              ...       ...     ...   \n",
      "166       Vishal                            Kumar       Das    Male   \n",
      "167       VISHAL                              NaN    SHARMA    Male   \n",
      "168    YASHASWI                               NaN   KUMARI   Female   \n",
      "169       YUGANT                              NaN     SINGH    Male   \n",
      "170       ZUNAIB                              NaN      KHAN    Male   \n",
      "\n",
      "    D.O.B (DD/MM/YYYY FORMAT ONLY)  ...  \\\n",
      "0                       01/11/2001  ...   \n",
      "1                       11/10/2001  ...   \n",
      "2                       15/09/2002  ...   \n",
      "3                       10/05/2003  ...   \n",
      "4                       02/11/2001  ...   \n",
      "..                             ...  ...   \n",
      "166                     28/08/2003  ...   \n",
      "167                     02/06/2003  ...   \n",
      "168                     10/07/2004  ...   \n",
      "169                     07/03/2002  ...   \n",
      "170                     10/06/2002  ...   \n",
      "\n",
      "                PERMANENT - ADDRESS FOR CORRESPONDENCE  \\\n",
      "0                    51/4/C/1, RABINDRA SARANI, LILUAH   \n",
      "1                   26, Zakaria Street, Kolkata-700073   \n",
      "2                          SANTINAGAR VIVEKANANDA ROAD   \n",
      "3                       LODHASULI,JHARGRAM,WEST BENGAL   \n",
      "4    Po: Pratapdighi, Dist: East Medinipur, Pin:721440   \n",
      "..                                                 ...   \n",
      "166     vill-Rambhadrapur ,post-madanpur,ps-bahadurpur   \n",
      "167  VILL SULLAN WARD NO.1 , TEHSIL RAMNAGAR, DIST ...   \n",
      "168  House no 49, lic colony,near LIC COMMUNITY HAL...   \n",
      "169        DAMODA COLLIERY NO.2, RANIGANJ, WEST BENGAL   \n",
      "170          SHAHMAT HUSSAIN LANE,ISLAMNAGAR,BARAHPURA   \n",
      "\n",
      "     PERMANENT LOCATION (PLACE - CITY/TOWN/VILLAGE)  \\\n",
      "0                                  KOLKATA -KOLKATA   \n",
      "1                                          Kolkata    \n",
      "2                                           ASANSOL   \n",
      "3                                         LODHASULI   \n",
      "4                                       Pratapdighi   \n",
      "..                                              ...   \n",
      "166  vill-Rambhadrapur ,post-madanpur,ps-bahadurpur   \n",
      "167            VILLAGE SULLAN DIST UDHAMPUR  -JAMMU   \n",
      "168                                           PATNA   \n",
      "169                                        RANIGANJ   \n",
      "170                                       BHAGALPUR   \n",
      "\n",
      "    PERMANENT LOCATION (DISTRICT) PERMANENT LOCATION (STATE)  \\\n",
      "0                        KOLKATA                WEST BENGAL    \n",
      "1                        Kolkata                 West Bengal   \n",
      "2               PASCHIM BARDHAMAN                WEST BENGAL   \n",
      "3                        JHARGRAM                WEST BENGAL   \n",
      "4                   East Midnapur                West Bengal   \n",
      "..                            ...                        ...   \n",
      "166                     Darbhanga                      Bihar   \n",
      "167                     UDHAMPUR          JAMMU AND KASHMIR    \n",
      "168                         PATNA                      BIHAR   \n",
      "169             PASCHIM BARDHAMAN                WEST BENGAL   \n",
      "170                     BHAGALPUR                      BIHAR   \n",
      "\n",
      "    PERMANENT LOCATION (PIN CODE)  \\\n",
      "0                          711204   \n",
      "1                          700073   \n",
      "2                          713325   \n",
      "3                          721513   \n",
      "4                          721440   \n",
      "..                            ...   \n",
      "166                        847101   \n",
      "167                        182122   \n",
      "168                        800020   \n",
      "169                        713358   \n",
      "170                        812001   \n",
      "\n",
      "                                       PRESENT ADDRESS  \\\n",
      "0                    51/4/C/1, RABINDRA SARANI, LILUAH   \n",
      "1                  26, Zakaria Street, kolkata -700073   \n",
      "2    PANCHPOTA, NEAR POLICE PARA TOTO STAND , NEW G...   \n",
      "3                                                GARIA   \n",
      "4                                                Garia   \n",
      "..                                                 ...   \n",
      "166    saha Civil construction ,near toto-stand ,garia   \n",
      "167  NIHAL APARTMENT, NEAR TOTO STAND, PANCHPOTA GA...   \n",
      "168  House no 49, lic colony,near LIC COMMUNITY HAL...   \n",
      "169        DAMODA COLLIERY NO.2, RANIGANJ, WEST BENGAL   \n",
      "170       BIKASH GUHA COLONY , TECHNO CITY , PANCHPOTA   \n",
      "\n",
      "     PRESENT LOCATION (PLACE - CITY/TOWN/VILLAGE) PRESENT LOCATION (DISTRICT)  \\\n",
      "0                               KOLKATA -KOLKATA                     KOLKATA    \n",
      "1                                        Kolkata                     Kolkata    \n",
      "2                                         KOLKATA                     KOLKATA   \n",
      "3                                           GARIA           SOUTH 24 PARGANAS   \n",
      "4                                           Garia                     Kolkata   \n",
      "..                                            ...                         ...   \n",
      "166                                       Kolkata                     Kolkata   \n",
      "167                                 GARIA-KOLKATA           SOUTH 24 PARGANAS   \n",
      "168                                         PATNA                       PATNA   \n",
      "169                                       KOLKATA           SOUTH 24 PARGANAS   \n",
      "170                                        GARIA            SOUTH 24 PARGANAS   \n",
      "\n",
      "    PRESENT LOCATION (STATE) PRESENT LOCATION (PIN CODE)  \n",
      "0               WEST BENGAL                       711204  \n",
      "1                   Kolkata                       700073  \n",
      "2                WEST BENGAL                      700152  \n",
      "3                WEST BENGAL                      700152  \n",
      "4                West Bengal                      700152  \n",
      "..                       ...                         ...  \n",
      "166              West-Bengal                      700152  \n",
      "167             WEST BENGAL                       700152  \n",
      "168                    BIHAR                      800020  \n",
      "169              WEST BENGAL                      700152  \n",
      "170              WEST BENGAL                      700152  \n",
      "\n",
      "[171 rows x 164 columns]\n"
     ]
    }
   ],
   "source": [
    "import pandas as pd\n",
    "df=pd.read_excel(\"newIT.xlsx\")\n",
    "print (df)"
   ]
  },
  {
   "cell_type": "code",
   "execution_count": 5,
   "id": "e00c8c38-6a02-410c-88e0-ffc50322875a",
   "metadata": {},
   "outputs": [
    {
     "name": "stdout",
     "output_type": "stream",
     "text": [
      "      name  age  Salary\n",
      "0  Shubham   22   90999\n",
      "1   Kishan   21   60000\n",
      "2    Rahul   21   50000\n",
      "3   Deepak   20   55000\n"
     ]
    }
   ],
   "source": [
    "import pandas as pd\n",
    "dict={\"name\":[\"Shubham\",\"Kishan\",\"Rahul\",\"Deepak\"],\n",
    "      \"age\":[22,21,21,20],\n",
    "      \"Salary\":[90999,60000,50000,55000]}\n",
    "df=pd.DataFrame(dict)\n",
    "print(df)"
   ]
  },
  {
   "cell_type": "code",
   "execution_count": 6,
   "id": "840081d7-285c-46b4-a1e3-c27f6d08b9d8",
   "metadata": {},
   "outputs": [
    {
     "name": "stdout",
     "output_type": "stream",
     "text": [
      "      name  age  Salary\n",
      "0  Shubham   22   90999\n",
      "1   Kishan   21   60000\n"
     ]
    }
   ],
   "source": [
    "print(df.head(2))"
   ]
  },
  {
   "cell_type": "code",
   "execution_count": 7,
   "id": "e36ed402-33af-4358-90eb-1c12f5987dca",
   "metadata": {},
   "outputs": [
    {
     "name": "stdout",
     "output_type": "stream",
     "text": [
      "     name  age  Salary\n",
      "3  Deepak   20   55000\n"
     ]
    }
   ],
   "source": [
    "print(df.tail(1))\n"
   ]
  },
  {
   "cell_type": "code",
   "execution_count": 8,
   "id": "15c7bce1-3236-44eb-9d46-9091c9d3c649",
   "metadata": {},
   "outputs": [
    {
     "name": "stdout",
     "output_type": "stream",
     "text": [
      "<class 'pandas.core.frame.DataFrame'>\n",
      "RangeIndex: 4 entries, 0 to 3\n",
      "Data columns (total 3 columns):\n",
      " #   Column  Non-Null Count  Dtype \n",
      "---  ------  --------------  ----- \n",
      " 0   name    4 non-null      object\n",
      " 1   age     4 non-null      int64 \n",
      " 2   Salary  4 non-null      int64 \n",
      "dtypes: int64(2), object(1)\n",
      "memory usage: 228.0+ bytes\n",
      "None\n"
     ]
    }
   ],
   "source": [
    "print(df.info())"
   ]
  },
  {
   "cell_type": "code",
   "execution_count": 9,
   "id": "68c2333d-1bf2-422e-931f-3e3524018928",
   "metadata": {},
   "outputs": [
    {
     "name": "stdout",
     "output_type": "stream",
     "text": [
      "             age        Salary\n",
      "count   4.000000      4.000000\n",
      "mean   21.000000  63999.750000\n",
      "std     0.816497  18456.669984\n",
      "min    20.000000  50000.000000\n",
      "25%    20.750000  53750.000000\n",
      "50%    21.000000  57500.000000\n",
      "75%    21.250000  67749.750000\n",
      "max    22.000000  90999.000000\n"
     ]
    }
   ],
   "source": [
    "print(df.describe())"
   ]
  },
  {
   "cell_type": "code",
   "execution_count": 10,
   "id": "df35995f-e947-4822-9288-63bc522deda3",
   "metadata": {},
   "outputs": [
    {
     "name": "stdout",
     "output_type": "stream",
     "text": [
      "    name    age  Salary\n",
      "0  False  False   False\n",
      "1  False  False   False\n",
      "2  False  False   False\n",
      "3  False  False   False\n"
     ]
    }
   ],
   "source": [
    " print(df.isnull())\n"
   ]
  },
  {
   "cell_type": "code",
   "execution_count": 11,
   "id": "7febd89b-4a1a-449e-ba86-175a0633643e",
   "metadata": {},
   "outputs": [
    {
     "name": "stdout",
     "output_type": "stream",
     "text": [
      "name      0\n",
      "age       0\n",
      "Salary    0\n",
      "dtype: int64\n"
     ]
    }
   ],
   "source": [
    "print(df.isnull().sum())\n"
   ]
  },
  {
   "cell_type": "code",
   "execution_count": 12,
   "id": "af0b4b16-a697-4cb3-bf00-dae96ffc9d4e",
   "metadata": {},
   "outputs": [
    {
     "name": "stdout",
     "output_type": "stream",
     "text": [
      "    EEID      Name gender   salary\n",
      "0  EMP01    ayushi      F      NaN\n",
      "1  EMP02     rohit      M  25000.0\n",
      "2  EMP03  pranjali    NaN  27000.0\n",
      "3  EMP01    ayushi      F  20000.0\n",
      "4  EMP05       NaN      M  25000.0\n",
      "5  EMP06     rohit      M      NaN\n",
      "6  EMP02     rohit      M  25000.0\n"
     ]
    }
   ],
   "source": [
    "import pandas as pd\n",
    "df=pd.read_csv(\"company1.csv\")\n",
    "print(df)"
   ]
  },
  {
   "cell_type": "code",
   "execution_count": 13,
   "id": "e65c342d-81f6-418a-a0d0-56a441343e52",
   "metadata": {},
   "outputs": [
    {
     "ename": "AttributeError",
     "evalue": "'DataFrame' object has no attribute 'duplicate'",
     "output_type": "error",
     "traceback": [
      "\u001b[1;31m---------------------------------------------------------------------------\u001b[0m",
      "\u001b[1;31mAttributeError\u001b[0m                            Traceback (most recent call last)",
      "\u001b[1;32m~\\AppData\\Local\\Temp\\ipykernel_6664\\2256583062.py\u001b[0m in \u001b[0;36m?\u001b[1;34m()\u001b[0m\n\u001b[1;32m----> 1\u001b[1;33m \u001b[0mdf\u001b[0m\u001b[1;33m.\u001b[0m\u001b[0mduplicate\u001b[0m\u001b[1;33m(\u001b[0m\u001b[1;33m)\u001b[0m\u001b[1;33m\u001b[0m\u001b[1;33m\u001b[0m\u001b[0m\n\u001b[0m",
      "\u001b[1;32m~\\AppData\\Local\\Programs\\Python\\Python312\\Lib\\site-packages\\pandas\\core\\generic.py\u001b[0m in \u001b[0;36m?\u001b[1;34m(self, name)\u001b[0m\n\u001b[0;32m   6295\u001b[0m             \u001b[1;32mand\u001b[0m \u001b[0mname\u001b[0m \u001b[1;32mnot\u001b[0m \u001b[1;32min\u001b[0m \u001b[0mself\u001b[0m\u001b[1;33m.\u001b[0m\u001b[0m_accessors\u001b[0m\u001b[1;33m\u001b[0m\u001b[1;33m\u001b[0m\u001b[0m\n\u001b[0;32m   6296\u001b[0m             \u001b[1;32mand\u001b[0m \u001b[0mself\u001b[0m\u001b[1;33m.\u001b[0m\u001b[0m_info_axis\u001b[0m\u001b[1;33m.\u001b[0m\u001b[0m_can_hold_identifiers_and_holds_name\u001b[0m\u001b[1;33m(\u001b[0m\u001b[0mname\u001b[0m\u001b[1;33m)\u001b[0m\u001b[1;33m\u001b[0m\u001b[1;33m\u001b[0m\u001b[0m\n\u001b[0;32m   6297\u001b[0m         \u001b[1;33m)\u001b[0m\u001b[1;33m:\u001b[0m\u001b[1;33m\u001b[0m\u001b[1;33m\u001b[0m\u001b[0m\n\u001b[0;32m   6298\u001b[0m             \u001b[1;32mreturn\u001b[0m \u001b[0mself\u001b[0m\u001b[1;33m[\u001b[0m\u001b[0mname\u001b[0m\u001b[1;33m]\u001b[0m\u001b[1;33m\u001b[0m\u001b[1;33m\u001b[0m\u001b[0m\n\u001b[1;32m-> 6299\u001b[1;33m         \u001b[1;32mreturn\u001b[0m \u001b[0mobject\u001b[0m\u001b[1;33m.\u001b[0m\u001b[0m__getattribute__\u001b[0m\u001b[1;33m(\u001b[0m\u001b[0mself\u001b[0m\u001b[1;33m,\u001b[0m \u001b[0mname\u001b[0m\u001b[1;33m)\u001b[0m\u001b[1;33m\u001b[0m\u001b[1;33m\u001b[0m\u001b[0m\n\u001b[0m",
      "\u001b[1;31mAttributeError\u001b[0m: 'DataFrame' object has no attribute 'duplicate'"
     ]
    }
   ],
   "source": [
    "df.duplicate()"
   ]
  },
  {
   "cell_type": "code",
   "execution_count": 14,
   "id": "ec4cad92-3fc2-43c6-bd57-638f31cbd8ed",
   "metadata": {},
   "outputs": [
    {
     "name": "stdout",
     "output_type": "stream",
     "text": [
      "0    False\n",
      "1    False\n",
      "2    False\n",
      "3    False\n",
      "4    False\n",
      "5    False\n",
      "6     True\n",
      "dtype: bool\n"
     ]
    }
   ],
   "source": [
    "print(df.duplicated())"
   ]
  },
  {
   "cell_type": "code",
   "execution_count": 17,
   "id": "14fe65f0-821d-451e-a607-e0e104f3c05f",
   "metadata": {},
   "outputs": [
    {
     "name": "stdout",
     "output_type": "stream",
     "text": [
      "0    False\n",
      "1    False\n",
      "2    False\n",
      "3     True\n",
      "4    False\n",
      "5    False\n",
      "6     True\n",
      "dtype: bool\n"
     ]
    }
   ],
   "source": [
    "print(df.duplicated(['EEID']))\n"
   ]
  },
  {
   "cell_type": "code",
   "execution_count": 18,
   "id": "e733f16c-387f-41d6-854e-464e03ce3aec",
   "metadata": {},
   "outputs": [
    {
     "ename": "SyntaxError",
     "evalue": "incomplete input (3992702663.py, line 1)",
     "output_type": "error",
     "traceback": [
      "\u001b[1;36m  Cell \u001b[1;32mIn[18], line 1\u001b[1;36m\u001b[0m\n\u001b[1;33m    print(df.duplicated(['EEID'].sum())\u001b[0m\n\u001b[1;37m                                       ^\u001b[0m\n\u001b[1;31mSyntaxError\u001b[0m\u001b[1;31m:\u001b[0m incomplete input\n"
     ]
    }
   ],
   "source": [
    "print(df.duplicated(['EEID'].sum())"
   ]
  },
  {
   "cell_type": "code",
   "execution_count": 19,
   "id": "abc47d90-d3f0-44d4-bb65-73e679af226e",
   "metadata": {},
   "outputs": [
    {
     "ename": "SyntaxError",
     "evalue": "invalid syntax (1158676977.py, line 1)",
     "output_type": "error",
     "traceback": [
      "\u001b[1;36m  Cell \u001b[1;32mIn[19], line 1\u001b[1;36m\u001b[0m\n\u001b[1;33m    print(df.['EEID'].duplicated()\u001b[0m\n\u001b[1;37m             ^\u001b[0m\n\u001b[1;31mSyntaxError\u001b[0m\u001b[1;31m:\u001b[0m invalid syntax\n"
     ]
    }
   ],
   "source": [
    "print(df.['EEID'].duplicated()"
   ]
  },
  {
   "cell_type": "code",
   "execution_count": 20,
   "id": "d24fb045-7f74-4bd9-9e93-a3f578b2b7d5",
   "metadata": {},
   "outputs": [
    {
     "name": "stdout",
     "output_type": "stream",
     "text": [
      "0    False\n",
      "1    False\n",
      "2    False\n",
      "3     True\n",
      "4    False\n",
      "5    False\n",
      "6     True\n",
      "Name: EEID, dtype: bool\n"
     ]
    }
   ],
   "source": [
    "print(df['EEID'].duplicated())"
   ]
  },
  {
   "cell_type": "code",
   "execution_count": 21,
   "id": "a692501f-7037-4787-b3f1-1ef7709f80fe",
   "metadata": {},
   "outputs": [
    {
     "name": "stdout",
     "output_type": "stream",
     "text": [
      "2\n"
     ]
    }
   ],
   "source": [
    "print(df['EEID'].duplicated().sum())"
   ]
  },
  {
   "cell_type": "code",
   "execution_count": 22,
   "id": "94c6e09d-3ce4-4c65-b5a8-49672c84408d",
   "metadata": {},
   "outputs": [
    {
     "data": {
      "text/html": [
       "<div>\n",
       "<style scoped>\n",
       "    .dataframe tbody tr th:only-of-type {\n",
       "        vertical-align: middle;\n",
       "    }\n",
       "\n",
       "    .dataframe tbody tr th {\n",
       "        vertical-align: top;\n",
       "    }\n",
       "\n",
       "    .dataframe thead th {\n",
       "        text-align: right;\n",
       "    }\n",
       "</style>\n",
       "<table border=\"1\" class=\"dataframe\">\n",
       "  <thead>\n",
       "    <tr style=\"text-align: right;\">\n",
       "      <th></th>\n",
       "      <th>EEID</th>\n",
       "      <th>Name</th>\n",
       "      <th>gender</th>\n",
       "      <th>salary</th>\n",
       "    </tr>\n",
       "  </thead>\n",
       "  <tbody>\n",
       "    <tr>\n",
       "      <th>0</th>\n",
       "      <td>EMP01</td>\n",
       "      <td>ayushi</td>\n",
       "      <td>F</td>\n",
       "      <td>NaN</td>\n",
       "    </tr>\n",
       "    <tr>\n",
       "      <th>1</th>\n",
       "      <td>EMP02</td>\n",
       "      <td>rohit</td>\n",
       "      <td>M</td>\n",
       "      <td>25000.0</td>\n",
       "    </tr>\n",
       "    <tr>\n",
       "      <th>2</th>\n",
       "      <td>EMP03</td>\n",
       "      <td>pranjali</td>\n",
       "      <td>NaN</td>\n",
       "      <td>27000.0</td>\n",
       "    </tr>\n",
       "    <tr>\n",
       "      <th>4</th>\n",
       "      <td>EMP05</td>\n",
       "      <td>NaN</td>\n",
       "      <td>M</td>\n",
       "      <td>25000.0</td>\n",
       "    </tr>\n",
       "    <tr>\n",
       "      <th>5</th>\n",
       "      <td>EMP06</td>\n",
       "      <td>rohit</td>\n",
       "      <td>M</td>\n",
       "      <td>NaN</td>\n",
       "    </tr>\n",
       "  </tbody>\n",
       "</table>\n",
       "</div>"
      ],
      "text/plain": [
       "    EEID      Name gender   salary\n",
       "0  EMP01    ayushi      F      NaN\n",
       "1  EMP02     rohit      M  25000.0\n",
       "2  EMP03  pranjali    NaN  27000.0\n",
       "4  EMP05       NaN      M  25000.0\n",
       "5  EMP06     rohit      M      NaN"
      ]
     },
     "execution_count": 22,
     "metadata": {},
     "output_type": "execute_result"
    }
   ],
   "source": [
    "df.drop_duplicates(\"EEID\")\n"
   ]
  },
  {
   "cell_type": "code",
   "execution_count": 23,
   "id": "0c3e76b1-646b-4119-8151-36af6b6a2cfd",
   "metadata": {},
   "outputs": [
    {
     "name": "stdout",
     "output_type": "stream",
     "text": [
      "    EEID      Name gender   salary\n",
      "0  EMP01    ayushi      F      NaN\n",
      "1  EMP02     rohit      M  25000.0\n",
      "2  EMP03  pranjali    NaN  27000.0\n",
      "4  EMP05       NaN      M  25000.0\n",
      "5  EMP06     rohit      M      NaN\n"
     ]
    }
   ],
   "source": [
    "print(df.drop_duplicates(\"EEID\"))"
   ]
  },
  {
   "cell_type": "code",
   "execution_count": 25,
   "id": "9d00603a-16cf-4b10-9445-6034e73fe6d8",
   "metadata": {},
   "outputs": [
    {
     "name": "stdout",
     "output_type": "stream",
     "text": [
      "    EEID   Name  gender  salary\n",
      "0  False  False   False    True\n",
      "1  False  False   False   False\n",
      "2  False  False    True   False\n",
      "3  False  False   False   False\n",
      "4  False   True   False   False\n",
      "5  False  False   False    True\n",
      "6  False  False   False   False\n",
      "EEID      0\n",
      "Name      1\n",
      "gender    1\n",
      "salary    2\n",
      "dtype: int64\n"
     ]
    }
   ],
   "source": [
    "import pandas as pd\n",
    "import numpy as np\n",
    "\n",
    "data=pd.read_csv(\"company1.csv\")\n",
    "print(data.isnull())\n",
    "print(data.isnull().sum())\n"
   ]
  },
  {
   "cell_type": "code",
   "execution_count": 26,
   "id": "9663529f-3236-4123-ac23-712b060c9bac",
   "metadata": {},
   "outputs": [
    {
     "name": "stdout",
     "output_type": "stream",
     "text": [
      "    EEID    Name gender   salary\n",
      "1  EMP02   rohit      M  25000.0\n",
      "3  EMP01  ayushi      F  20000.0\n",
      "6  EMP02   rohit      M  25000.0\n"
     ]
    }
   ],
   "source": [
    "print(data.dropna())"
   ]
  },
  {
   "cell_type": "code",
   "execution_count": 29,
   "id": "73c7504a-764f-4014-b12c-fa8af07a75d7",
   "metadata": {},
   "outputs": [
    {
     "name": "stdout",
     "output_type": "stream",
     "text": [
      "    EEID      Name gender   salary\n",
      "0  EMP01    ayushi      F        X\n",
      "1  EMP02     rohit      M  25000.0\n",
      "2  EMP03  pranjali      X  27000.0\n",
      "3  EMP01    ayushi      F  20000.0\n",
      "4  EMP05         X      M  25000.0\n",
      "5  EMP06     rohit      M        X\n",
      "6  EMP02     rohit      M  25000.0\n"
     ]
    }
   ],
   "source": [
    "print(data.replace(np.nan,\"X\"))"
   ]
  },
  {
   "cell_type": "code",
   "execution_count": 32,
   "id": "2e8f8da5-5cd2-48bc-a6a2-d2e611e50f90",
   "metadata": {},
   "outputs": [],
   "source": [
    "data[\"salary\"]=data[\"salary\"].replace(np.nan,300000)"
   ]
  },
  {
   "cell_type": "code",
   "execution_count": 33,
   "id": "445639d6-0118-4994-b9c6-ece147ae9d10",
   "metadata": {},
   "outputs": [
    {
     "ename": "SyntaxError",
     "evalue": "expression cannot contain assignment, perhaps you meant \"==\"? (1980649040.py, line 1)",
     "output_type": "error",
     "traceback": [
      "\u001b[1;36m  Cell \u001b[1;32mIn[33], line 1\u001b[1;36m\u001b[0m\n\u001b[1;33m    print(data[\"salary\"]=data[\"salary\"].replace(np.nan,300000))\u001b[0m\n\u001b[1;37m          ^\u001b[0m\n\u001b[1;31mSyntaxError\u001b[0m\u001b[1;31m:\u001b[0m expression cannot contain assignment, perhaps you meant \"==\"?\n"
     ]
    }
   ],
   "source": [
    "print(data[\"salary\"]=data[\"salary\"].replace(np.nan,300000))"
   ]
  },
  {
   "cell_type": "code",
   "execution_count": 34,
   "id": "aa315fad-2388-4e0f-b009-8a0488572f02",
   "metadata": {},
   "outputs": [
    {
     "ename": "SyntaxError",
     "evalue": "Missing parentheses in call to 'print'. Did you mean print(...)? (4178071618.py, line 1)",
     "output_type": "error",
     "traceback": [
      "\u001b[1;36m  Cell \u001b[1;32mIn[34], line 1\u001b[1;36m\u001b[0m\n\u001b[1;33m    print data\u001b[0m\n\u001b[1;37m    ^\u001b[0m\n\u001b[1;31mSyntaxError\u001b[0m\u001b[1;31m:\u001b[0m Missing parentheses in call to 'print'. Did you mean print(...)?\n"
     ]
    }
   ],
   "source": [
    "print data\n"
   ]
  },
  {
   "cell_type": "code",
   "execution_count": 35,
   "id": "202f3728-98f8-4fb3-a015-876a46619693",
   "metadata": {},
   "outputs": [
    {
     "name": "stdout",
     "output_type": "stream",
     "text": [
      "    EEID      Name gender    salary\n",
      "0  EMP01    ayushi      F  300000.0\n",
      "1  EMP02     rohit      M   25000.0\n",
      "2  EMP03  pranjali    NaN   27000.0\n",
      "3  EMP01    ayushi      F   20000.0\n",
      "4  EMP05       NaN      M   25000.0\n",
      "5  EMP06     rohit      M  300000.0\n",
      "6  EMP02     rohit      M   25000.0\n"
     ]
    }
   ],
   "source": [
    "print(data)\n"
   ]
  },
  {
   "cell_type": "code",
   "execution_count": 36,
   "id": "71c54b08-2d7b-4be2-8e73-103ec7d4c370",
   "metadata": {},
   "outputs": [
    {
     "name": "stdout",
     "output_type": "stream",
     "text": [
      "103142.85714285714\n"
     ]
    }
   ],
   "source": [
    "print(data[\"salary\"].mean())"
   ]
  },
  {
   "cell_type": "code",
   "execution_count": 42,
   "id": "2deea616-90c9-4306-9247-1cd3baf562b8",
   "metadata": {},
   "outputs": [
    {
     "name": "stdout",
     "output_type": "stream",
     "text": [
      "    EEID      Name gender         salary\n",
      "0  EMP01    ayushi      F  103142.857143\n",
      "1  EMP02     rohit      M   25000.000000\n",
      "2  EMP03  pranjali    NaN   27000.000000\n",
      "3  EMP01    ayushi      F   20000.000000\n",
      "4  EMP05       NaN      M   25000.000000\n",
      "5  EMP06     rohit      M  103142.857143\n",
      "6  EMP02     rohit      M   25000.000000\n",
      "46897.959183673476\n"
     ]
    }
   ],
   "source": [
    "import pandas as pd\n",
    "import numpy as np\n",
    "data1=pd.read_csv(\"company1.csv\")\n",
    "data1[\"salary\"]=data1[\"salary\"].replace(np.nan,103142.85714285714)\n",
    "print(data1)\n",
    "print(data1[\"salary\"].mean())"
   ]
  },
  {
   "cell_type": "code",
   "execution_count": 38,
   "id": "cb1584c9-435e-47bd-a147-9caa378351f6",
   "metadata": {},
   "outputs": [
    {
     "name": "stdout",
     "output_type": "stream",
     "text": [
      "    EEID      Name gender    salary\n",
      "0  EMP01    ayushi      F  300000.0\n",
      "1  EMP02     rohit      M   25000.0\n",
      "2  EMP03  pranjali    NaN   27000.0\n",
      "3  EMP01    ayushi      F   20000.0\n",
      "4  EMP05       NaN      M   25000.0\n",
      "5  EMP06     rohit      M  300000.0\n",
      "6  EMP02     rohit      M   25000.0\n"
     ]
    }
   ],
   "source": [
    "print (data)"
   ]
  },
  {
   "cell_type": "code",
   "execution_count": 44,
   "id": "68959e3f-9e09-4905-a0b0-ce3798e31996",
   "metadata": {},
   "outputs": [
    {
     "name": "stdout",
     "output_type": "stream",
     "text": [
      "    EEID      Name gender   salary\n",
      "0  EMP01    ayushi      F      NaN\n",
      "1  EMP02     rohit      M  25000.0\n",
      "2  EMP03  pranjali    NaN  27000.0\n",
      "3  EMP01    ayushi      F  20000.0\n",
      "4  EMP05       NaN      M  25000.0\n",
      "5  EMP06     rohit      M      NaN\n",
      "6  EMP02     rohit      M  25000.0\n"
     ]
    }
   ],
   "source": [
    "data=pd.read_csv(\"company1.csv\")\n",
    "print(data)"
   ]
  },
  {
   "cell_type": "code",
   "execution_count": 45,
   "id": "bdcaac55-c06a-42da-b720-e37c54088190",
   "metadata": {},
   "outputs": [
    {
     "ename": "SyntaxError",
     "evalue": "unterminated string literal (detected at line 1) (1151442188.py, line 1)",
     "output_type": "error",
     "traceback": [
      "\u001b[1;36m  Cell \u001b[1;32mIn[45], line 1\u001b[1;36m\u001b[0m\n\u001b[1;33m    data.fillna(method=\"bfill\u001b[0m\n\u001b[1;37m                       ^\u001b[0m\n\u001b[1;31mSyntaxError\u001b[0m\u001b[1;31m:\u001b[0m unterminated string literal (detected at line 1)\n"
     ]
    }
   ],
   "source": [
    "data.fillna(method=\"bfill"
   ]
  },
  {
   "cell_type": "code",
   "execution_count": 46,
   "id": "cbabd4de-6117-47b0-826e-86cfe4e7c3fa",
   "metadata": {},
   "outputs": [
    {
     "name": "stdout",
     "output_type": "stream",
     "text": [
      "    EEID      Name gender   salary\n",
      "0  EMP01    ayushi      F      NaN\n",
      "1  EMP02     rohit      M  25000.0\n",
      "2  EMP03  pranjali    NaN  27000.0\n",
      "3  EMP01    ayushi      F  20000.0\n",
      "4  EMP05       NaN      M  25000.0\n",
      "5  EMP06     rohit      M      NaN\n",
      "6  EMP02     rohit      M  25000.0\n"
     ]
    },
    {
     "name": "stderr",
     "output_type": "stream",
     "text": [
      "C:\\Users\\satya\\AppData\\Local\\Temp\\ipykernel_6664\\48265385.py:1: FutureWarning: DataFrame.fillna with 'method' is deprecated and will raise in a future version. Use obj.ffill() or obj.bfill() instead.\n",
      "  data.fillna(method=\"bfill\")\n"
     ]
    }
   ],
   "source": [
    "data.fillna(method=\"bfill\")\n",
    "print(data)"
   ]
  },
  {
   "cell_type": "code",
   "execution_count": 47,
   "id": "fa0ee004-2d13-4ee8-894c-78ea98ac2934",
   "metadata": {},
   "outputs": [
    {
     "name": "stdout",
     "output_type": "stream",
     "text": [
      "    EEID      Name gender   salary\n",
      "0  EMP01    ayushi      F  25000.0\n",
      "1  EMP02     rohit      M  25000.0\n",
      "2  EMP03  pranjali      F  27000.0\n",
      "3  EMP01    ayushi      F  20000.0\n",
      "4  EMP05     rohit      M  25000.0\n",
      "5  EMP06     rohit      M  25000.0\n",
      "6  EMP02     rohit      M  25000.0\n"
     ]
    },
    {
     "name": "stderr",
     "output_type": "stream",
     "text": [
      "C:\\Users\\satya\\AppData\\Local\\Temp\\ipykernel_6664\\2075060948.py:1: FutureWarning: DataFrame.fillna with 'method' is deprecated and will raise in a future version. Use obj.ffill() or obj.bfill() instead.\n",
      "  print(data.fillna(method=\"bfill\"))\n"
     ]
    }
   ],
   "source": [
    "print(data.fillna(method=\"bfill\"))"
   ]
  },
  {
   "cell_type": "code",
   "execution_count": 50,
   "id": "aae84cda-33ff-4fad-94d6-56101d873035",
   "metadata": {},
   "outputs": [
    {
     "name": "stdout",
     "output_type": "stream",
     "text": [
      "    EEID      Name gender   salary\n",
      "0  EMP01    ayushi      F      NaN\n",
      "1  EMP02     rohit      M  25000.0\n",
      "2  EMP03  pranjali    NaN  27000.0\n",
      "3  EMP01    ayushi      F  20000.0\n",
      "4  EMP05       NaN      M  25000.0\n",
      "5  EMP06     rohit      M      NaN\n",
      "6  EMP02     rohit      M  25000.0\n"
     ]
    }
   ],
   "source": [
    "data=pd.read_csv(\"company1.csv\")\n",
    "print(data)"
   ]
  },
  {
   "cell_type": "code",
   "execution_count": 49,
   "id": "27d759a8-8b12-4cee-8cf4-eee27dbb8b1e",
   "metadata": {},
   "outputs": [
    {
     "name": "stdout",
     "output_type": "stream",
     "text": [
      "    EEID      Name gender   salary\n",
      "0  EMP01    ayushi      F  25000.0\n",
      "1  EMP02     rohit      M  25000.0\n",
      "2  EMP03  pranjali      F  27000.0\n",
      "3  EMP01    ayushi      F  20000.0\n",
      "4  EMP05     rohit      M  25000.0\n",
      "5  EMP06     rohit      M  25000.0\n",
      "6  EMP02     rohit      M  25000.0\n"
     ]
    }
   ],
   "source": [
    "print(data.bfill())"
   ]
  },
  {
   "cell_type": "code",
   "execution_count": 51,
   "id": "6dfa1d46-0f96-4979-9188-e9c9bedea0d6",
   "metadata": {},
   "outputs": [
    {
     "name": "stdout",
     "output_type": "stream",
     "text": [
      "    EEID      Name gender   salary\n",
      "0  EMP01    ayushi      F      NaN\n",
      "1  EMP02     rohit      M  25000.0\n",
      "2  EMP03  pranjali      M  27000.0\n",
      "3  EMP01    ayushi      F  20000.0\n",
      "4  EMP05    ayushi      M  25000.0\n",
      "5  EMP06     rohit      M  25000.0\n",
      "6  EMP02     rohit      M  25000.0\n"
     ]
    }
   ],
   "source": [
    "print(data.ffill())"
   ]
  },
  {
   "cell_type": "code",
   "execution_count": null,
   "id": "f18e52c8-92d7-4299-8dc2-2a4284f71c1a",
   "metadata": {},
   "outputs": [],
   "source": []
  }
 ],
 "metadata": {
  "kernelspec": {
   "display_name": "Python 3 (ipykernel)",
   "language": "python",
   "name": "python3"
  },
  "language_info": {
   "codemirror_mode": {
    "name": "ipython",
    "version": 3
   },
   "file_extension": ".py",
   "mimetype": "text/x-python",
   "name": "python",
   "nbconvert_exporter": "python",
   "pygments_lexer": "ipython3",
   "version": "3.12.5"
  }
 },
 "nbformat": 4,
 "nbformat_minor": 5
}
