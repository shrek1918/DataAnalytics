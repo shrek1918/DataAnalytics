{
 "cells": [
  {
   "cell_type": "code",
   "execution_count": 10,
   "id": "9c02ad3b-6ae1-43bc-aec6-cfae414d43ba",
   "metadata": {},
   "outputs": [],
   "source": [
    "import pandas as pd\n",
    "import numpy as np\n",
    "\n",
    "data={\n",
    "      \"Names\":[\"John\",\"Ben\",\"David\",\"Peter\"],\n",
    "      \"Houses\":[\"red\",\"blue\",\"green\",\"yellow\"],\n",
    "      \"Grades\":[\"8th\",\"9th\",\"6th\",\"4th\"]\n",
    "}\n",
    "df1=pd.DataFrame(data)"
   ]
  },
  {
   "cell_type": "code",
   "execution_count": 11,
   "id": "57b9ce44-4c2a-48aa-8f16-734e5a041b30",
   "metadata": {},
   "outputs": [
    {
     "name": "stdout",
     "output_type": "stream",
     "text": [
      "  keys  Names  Houses Grades\n",
      "0   k1   John     red    8th\n",
      "1   k2    Ben    blue    9th\n",
      "2   k1  David   green    6th\n",
      "3   k2  Peter  yellow    4th\n"
     ]
    }
   ],
   "source": [
    "print(df1)\n"
   ]
  },
  {
   "cell_type": "code",
   "execution_count": 12,
   "id": "6f4cab72-2de7-473a-853a-02dcd50a136e",
   "metadata": {},
   "outputs": [
    {
     "name": "stdout",
     "output_type": "stream",
     "text": [
      "      Houses                     Grades                 \n",
      "Names    Ben  David John   Peter    Ben David John Peter\n",
      "keys                                                    \n",
      "k1       NaN  green  red     NaN    NaN   6th  8th   NaN\n",
      "k2      blue    NaN  NaN  yellow    9th   NaN  NaN   4th\n"
     ]
    }
   ],
   "source": [
    "print(df1.pivot(index=\"keys\",columns=\"Names\",values=[\"Houses\",\"Grades\"]))"
   ]
  },
  {
   "cell_type": "code",
   "execution_count": 14,
   "id": "22f44974-8156-468c-9f3a-f64e60b5b727",
   "metadata": {},
   "outputs": [
    {
     "name": "stdout",
     "output_type": "stream",
     "text": [
      "   Names variable   value\n",
      "0   John   Houses     red\n",
      "1    Ben   Houses    blue\n",
      "2  David   Houses   green\n",
      "3  Peter   Houses  yellow\n",
      "4   John   Grades     8th\n",
      "5    Ben   Grades     9th\n",
      "6  David   Grades     6th\n",
      "7  Peter   Grades     4th\n"
     ]
    }
   ],
   "source": [
    "import pandas as pd\n",
    "import numpy as np\n",
    "\n",
    "data={\n",
    "      \"Names\":[\"John\",\"Ben\",\"David\",\"Peter\"],\n",
    "      \"Houses\":[\"red\",\"blue\",\"green\",\"yellow\"],\n",
    "      \"Grades\":[\"8th\",\"9th\",\"6th\",\"4th\"]\n",
    "}\n",
    "df1=pd.DataFrame(data)\n",
    "print(pd.melt(df1, id_vars=\"Names\",value_vars=[\"Houses\",\"Grades\"]))"
   ]
  },
  {
   "cell_type": "code",
   "execution_count": null,
   "id": "40f67816-bba3-4936-8e0f-de0c64cbd664",
   "metadata": {},
   "outputs": [],
   "source": []
  }
 ],
 "metadata": {
  "kernelspec": {
   "display_name": "Python 3 (ipykernel)",
   "language": "python",
   "name": "python3"
  },
  "language_info": {
   "codemirror_mode": {
    "name": "ipython",
    "version": 3
   },
   "file_extension": ".py",
   "mimetype": "text/x-python",
   "name": "python",
   "nbconvert_exporter": "python",
   "pygments_lexer": "ipython3",
   "version": "3.12.5"
  }
 },
 "nbformat": 4,
 "nbformat_minor": 5
}
