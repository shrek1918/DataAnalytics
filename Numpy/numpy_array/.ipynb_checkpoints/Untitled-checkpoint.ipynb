{
 "cells": [
  {
   "cell_type": "code",
   "execution_count": null,
   "id": "0f293fae-d531-434d-ab36-e2a87335f167",
   "metadata": {},
   "outputs": [],
   "source": []
  }
 ],
 "metadata": {
  "kernelspec": {
   "display_name": "",
   "name": ""
  },
  "language_info": {
   "name": ""
  }
 },
 "nbformat": 4,
 "nbformat_minor": 5
}
